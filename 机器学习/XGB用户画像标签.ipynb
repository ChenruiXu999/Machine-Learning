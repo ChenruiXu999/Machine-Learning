{
  "nbformat": 4,
  "nbformat_minor": 0,
  "metadata": {
    "colab": {
      "private_outputs": true,
      "provenance": []
    },
    "kernelspec": {
      "name": "python3",
      "display_name": "Python 3"
    },
    "language_info": {
      "name": "python"
    }
  },
  "cells": [
    {
      "cell_type": "code",
      "source": [
        "import os\n",
        "import sys\n",
        "import glob\n",
        "import warnings\n",
        "import numpy as np\n",
        "import pandas as pd\n",
        "import seaborn as sns\n",
        "import xgboost as xgb\n",
        "import matplotlib as mpl\n",
        "import matplotlib.mlab as mlab\n",
        "import matplotlib.pyplot as plt\n",
        "from matplotlib.pyplot import cm\n",
        "import matplotlib.font_manager as fm\n",
        "\n",
        "from mpl_toolkits.mplot3d import Axes3D\n",
        "from IPython.core.interactiveshell import InteractiveShell\n",
        "!pip install factor_analyzer\n",
        "from sklearn.impute import SimpleImputer\n",
        "from factor_analyzer import FactorAnalyzer\n",
        "from sklearn.preprocessing import StandardScaler\n",
        "from sklearn.model_selection import train_test_split\n",
        "from factor_analyzer.factor_analyzer import calculate_kmo\n",
        "from factor_analyzer.factor_analyzer import calculate_bartlett_sphericity\n",
        "#各种设置\n",
        "warnings.simplefilter(\"ignore\")\n",
        "__file__ = './datasets/src'\n",
        "sys.path.append(os.path.realpath(__file__))\n",
        "InteractiveShell.ast_node_interactivity = \"all\"\n",
        "pd.options.display.max_columns = 1000\n",
        "myfont = mpl.font_manager.FontProperties(fname=\"/Library/Fonts/SimHei.ttf\")  #\"/Library/Fonts/Songti.ttc\") 字体设置\n",
        "mpl.rcParams[\"axes.unicode_minus\"] = False\n",
        "\n",
        "mpl.style.use('ggplot')\n",
        "plt.rcParams['font.sans-serif'] = ['SimHei']  # 用来正常显示中文标签\n",
        "plt.rcParams['axes.unicode_minus'] = False    # 用来正常显示负号,#有中文出现的情况，需要u'内容'"
      ],
      "metadata": {
        "id": "KJTWVcbZ9TB3"
      },
      "execution_count": null,
      "outputs": []
    },
    {
      "cell_type": "code",
      "source": [
        "import os\n",
        "from google.colab import drive\n",
        "drive.mount('/content/drive')\n",
        "loadpath = \"/content/drive/My Drive/Colab Notebooks/XGB用户画像\"\n",
        "print(os.chdir(loadpath))\n",
        "print(os.listdir(loadpath))#目前路径\n",
        "# import zipfile\n",
        "# # 传入压缩文件zfile.zip获取相关信息\n",
        "# zip_file = zipfile.ZipFile(loadpath+'/datasets.zip')\n",
        "# # 获取压缩文件中的内容\n",
        "# f_content = zip_file.namelist()\n",
        "# f_content\n",
        "# #解压缩到主目录\n",
        "# zip_extract = zip_file.extractall(loadpath)"
      ],
      "metadata": {
        "id": "bSSDsYEx-_S7"
      },
      "execution_count": null,
      "outputs": []
    },
    {
      "cell_type": "code",
      "source": [
        "if not os.path.exists('./datasets/src/temp/'):\n",
        "    os.mkdir(os.getcwd()+'/datasets/src/temp/')\n",
        "if not os.path.exists('./datasets/src/temp/pictures'):\n",
        "    os.mkdir(os.getcwd()+'/datasets/src/temp/pictures')"
      ],
      "metadata": {
        "id": "gx6PNIQgAHt4"
      },
      "execution_count": null,
      "outputs": []
    },
    {
      "cell_type": "code",
      "source": [
        "data = pd.read_csv('./datasets/data/LoanStat.csv')\n",
        "data.head(5)"
      ],
      "metadata": {
        "id": "94b1keFREmLL"
      },
      "execution_count": null,
      "outputs": []
    },
    {
      "cell_type": "code",
      "source": [
        "print('The shape of data: ',data.shape)\n",
        "print('==========================================================================================')\n",
        "print('每列对应的null的个数:',data.isnull().sum())\n",
        "print('==========================================================================================')\n",
        "null_stat = data.isnull().sum()/len(data)\n",
        "print('缺失值占比:',null_stat)\n",
        "print('==========================================================================================')\n",
        "null_col = null_stat[null_stat>0.8].index.tolist()\n",
        "print('缺失值占比在80%以上的列:')\n",
        "null_col"
      ],
      "metadata": {
        "id": "9jNikJT_Hd-4"
      },
      "execution_count": null,
      "outputs": []
    },
    {
      "cell_type": "code",
      "source": [
        "rename_dic = {'id':'ID',\n",
        "              'member_id':'用户ID',\n",
        "              'loan_amnt':'贷款金额',\n",
        "              'funded_amnt':'承诺放贷金额（贷款人）',\n",
        "              'funded_amnt_inv':'承诺放贷金额（贷款）',\n",
        "              'term':'贷款期数',\n",
        "              'int_rate':'收入验证',\n",
        "              'installment':'每月还款',\n",
        "              'grade':'贷款等级',\n",
        "              'inq_last_12m':'过去12个月的信用查询次数',\n",
        "              'sub_grade':'贷款子等级',\n",
        "              'emp_title':'职称',\n",
        "              'emp_length':'就业年限',\n",
        "              'home_ownership':'房屋所有权状态',\n",
        "              'annual_inc':'年收入',\n",
        "              'verification_status':'1',\n",
        "              'issue_d':'贷款获得资助的年月',\n",
        "              'loan_status':'贷款现状',\n",
        "              'pymnt_plan':'是否实施还款计划',\n",
        "              'desc':'贷款说明',\n",
        "              'purpose':'贷款目的',\n",
        "              'title':'贷款头衔',\n",
        "              'zip_code':'邮政编码',\n",
        "              'addr_state':'州简称',\n",
        "              'dti':'收入负债比（总额）',\n",
        "              'delinq_2yrs':'过去两年借款人逾期30天以上的事件数',\n",
        "              'earliest_cr_line':'信贷额度开启的月份',\n",
        "              'inq_last_6mths':'过去6个月的查询数目',\n",
        "              'mths_since_last_delinq':'最后一次拖欠以来的月数',\n",
        "              'mths_since_last_record':'上次公开记录以来的月数',\n",
        "              'open_acc':'未结信用额度',\n",
        "              'pub_rec':'贬损公共记录的数量',\n",
        "              'revol_bal':'总信贷周转余额',\n",
        "              'revol_util':'循环利用率',\n",
        "              'total_acc':'当前信用额度的总数',\n",
        "              'initial_list_status':'贷款的初始上市状态',\n",
        "              'out_prncp':'剩余未偿还本金',\n",
        "              'out_prncp_inv':'剩余未偿还本金（本人）',\n",
        "              'total_pymnt':'迄今还款总额',\n",
        "              'total_pymnt_inv':'迄今为止收到的由投资者资助的部分总金额',\n",
        "              'total_rec_prncp':'迄今已收本金',\n",
        "              'total_rec_int':'迄今已收利息',\n",
        "              'total_rec_late_fee':'迄今已收滞纳金',\n",
        "              'recoveries':'收取总回收费用',\n",
        "              'collection_recovery_fee':'收取手续费',\n",
        "              'last_pymnt_d':'上个月收到付款',\n",
        "              'last_pymnt_amnt':'上次收到的总付款金额',\n",
        "              'next_pymnt_d':'下一个预定付款日期',\n",
        "              'last_credit_pull_d':'最近一个月提供信贷的日期',\n",
        "              'collections_12_mths_ex_med':'除医疗收集外12个月的馆藏数量',\n",
        "              'mths_since_last_major_derog':'最近90天或更差评级以来月份数',\n",
        "              'policy_code':'产品是否公开',\n",
        "              'application_type':'是否是单独申请',\n",
        "              'annual_inc_joint':'合并借款人年度收入',\n",
        "              'dti_joint':'收入负债比(月)',\n",
        "              'verification_status_joint':'0',\n",
        "              'acc_now_delinq':'借款人现在欠款的账户数量',\n",
        "              'tot_coll_amt':'欠款总额',\n",
        "              'tot_cur_bal':'所有帐户的当前总余额',\n",
        "              'open_acc_6m':'过去6个月的未平仓交易数量',\n",
        "              'open_il_12m':'过去12个月内开立的分期付款帐户数量',\n",
        "              'open_il_24m':'过去24个月内开立的分期付款帐户数量',\n",
        "              'mths_since_rcnt_il':'最近分期付款帐户开通以来的月份数',\n",
        "              'total_bal_il':'所有分期付款帐户的当前总余额',\n",
        "              'il_util':'所有安装帐户的总流量余额与信用额度的比率',\n",
        "              'open_rv_12m':'过去12个月内开设的循环交易数量',\n",
        "              'open_rv_24m':'过去24个月内开设的循环交易数量',\n",
        "              'max_bal_bc':'所有周转账户的最大当前余额',\n",
        "              'all_util':'所有交易均衡信贷限额',\n",
        "              'total_rev_hi_lim':'总循环高信用/信用额度',\n",
        "              'inq_fi':'个人理财咨询数量',\n",
        "              'total_cu_tl':'融资交易数量',\n",
        "              'total_bal_ex_mort':'除房贷之外的信用负债',\n",
        "              'num_tl_30dpd':'30天内需结清的款项'}\n",
        "print('筛选之后的重命名变量长度:',len(rename_dic))"
      ],
      "metadata": {
        "id": "fc4MY3szGyd4"
      },
      "execution_count": null,
      "outputs": []
    },
    {
      "cell_type": "code",
      "source": [
        "pd.options.display.max_columns = 100#只显示100列\n",
        "# 只留下改名后的字段\n",
        "data = data.rename(columns=rename_dic)[list(rename_dic.values())]\n",
        "data = data.drop(['0', '1'], axis=1)"
      ],
      "metadata": {
        "id": "7XaBHU97G9tE"
      },
      "execution_count": null,
      "outputs": []
    },
    {
      "cell_type": "code",
      "source": [
        "data.head(5)"
      ],
      "metadata": {
        "id": "RcSDWwnKJqu2"
      },
      "execution_count": null,
      "outputs": []
    },
    {
      "cell_type": "code",
      "source": [
        "# 将 'issue_d' str形式的时间日期转换\n",
        "dt_series = pd.to_datetime(data['贷款获得资助的年月'])\n",
        "data['贷款获得资助的年份'] = dt_series.dt.year\n",
        "data['贷款获得资助的月份'] = dt_series.dt.month\n",
        "# 数据分箱：根据收入 'annual_inc' 定义收入“低、中、高”\n",
        "# <10万 --> low , 10万~20万 --> medium , >20 万 --> high\n",
        "data['年收入层级'] = np.nan\n",
        "data.loc[data['年收入'] <= 100000, '年收入层级'] = 'Low'\n",
        "data.loc[(data['年收入'] > 100000) & (data['年收入'] <= 200000), '年收入层级'] = 'Medium'\n",
        "data.loc[data['年收入'] > 200000, '年收入层级'] = 'High'"
      ],
      "metadata": {
        "id": "5wan2yFG53Sn"
      },
      "execution_count": null,
      "outputs": []
    },
    {
      "cell_type": "code",
      "source": [
        "# 字段贷款期数清洗\n",
        "data['贷款期数'] = data['贷款期数'].map(lambda x: x.split(' months')[0]).astype(int)#把string转换成int月份\n",
        "\n",
        "# 字段收入验证清洗\n",
        "data['收入验证'] = data['收入验证'].map(lambda x: x.split('%')[0]).astype(float)\n",
        "\n",
        "# 字段就业年限清洗\n",
        "dic = {'< 1 year':1, '1 year':2, '2 years':3, '3 years':4, '4 years':5, '5 years':6,\n",
        "       '6 years':7, '7 years':8, '8 years':9, '9 years':10,  '10+ years':11}\n",
        "data['就业年限等级'] = data['就业年限'].map(dic)\n",
        "data[\"就业年限\"] = data[\"就业年限\"].replace({'years':'','year':'',' ':'','<':'','\\+':'','n/a':'0'}, regex = True).astype(float)\n",
        "\n",
        "# 字段贷款等级/贷款子等级清洗\n",
        "dic = {'A':1, 'B':2, 'C':3, 'D':4, 'E':5, 'F':6, 'G':7}\n",
        "data['贷款等级_INT'] = data['贷款等级'].map(dic)\n",
        "\n",
        "dic = dict(zip(['A1', 'A2', 'A3', 'A4', 'A5', 'B1', 'B2', 'B3', 'B4', 'B5', 'C1', 'C2',\n",
        "                'C3', 'C4', 'C5', 'D1', 'D2', 'D3', 'D4', 'D5', 'E1', 'E2', 'E3', 'E4',\n",
        "                'E5', 'F1', 'F2', 'F3', 'F4', 'F5', 'G1', 'G2', 'G3', 'G4', 'G5'],\n",
        "                range(data['贷款子等级'].nunique())))\n",
        "data['贷款子等级'] = data['贷款子等级'].map(dic)"
      ],
      "metadata": {
        "id": "2Y_cEj2k7Isv"
      },
      "execution_count": null,
      "outputs": []
    },
    {
      "cell_type": "code",
      "source": [
        "# 字段循环利用率清洗\n",
        "data['循环利用率'] = data['循环利用率'].astype(str).map(lambda x: x.split('%')[0]).astype(float)\n",
        "\n",
        "# 字段房屋所有权状态清洗\n",
        "data[\"房屋所有权状态等级\"] = data[\"房屋所有权状态\"].map({\"MORTGAGE\":6,\"RENT\":5,\"OWN\":4,\"OTHER\":3,\"NONE\":2,\"ANY\":1})\n",
        "\n",
        "data = data.apply(pd.to_numeric, errors='ignore')"
      ],
      "metadata": {
        "id": "uoHACuY9-k8k"
      },
      "execution_count": null,
      "outputs": []
    },
    {
      "cell_type": "code",
      "source": [
        "# 根据贷款状态 'loan_status' 定义好坏贷款\n",
        "data['贷款现状'].value_counts()\n",
        "\n",
        "bad_loan = [\"Charged Off\",\n",
        "            \"Default\",\n",
        "            \"Does not meet the credit policy. Status:Charged Off\",\n",
        "            \"In Grace Period\",\n",
        "            \"Late (16-30 days)\",\n",
        "            \"Late (31-120 days)\"]\n",
        "\n",
        "def loan_condition(status):\n",
        "    if status in bad_loan:\n",
        "        return 'Bad Loan'\n",
        "    else:\n",
        "        return 'Good Loan'\n",
        "\n",
        "data['贷款现状'] = data['贷款现状'].apply(loan_condition)\n",
        "data['贷款现状标签'] = np.nan\n",
        "data.loc[data['贷款现状'] == 'Good Loan', '贷款现状标签'] = 0  # Negative (Bad Loan)\n",
        "data.loc[data['贷款现状'] == 'Bad Loan', '贷款现状标签'] = 1  # Positive (Good Loan)\n",
        "data['贷款现状标签'] = data['贷款现状标签'].astype(int)"
      ],
      "metadata": {
        "id": "Q6LmdMJc_ATT"
      },
      "execution_count": null,
      "outputs": []
    },
    {
      "cell_type": "code",
      "source": [
        "for i in ['贷款等级', '贷款子等级', '职称', '贷款获得资助的年月', '贷款现状', '是否实施还款计划',\n",
        "        '贷款目的', '贷款头衔', '邮政编码', '州简称', '贷款的初始上市状态', '上个月收到付款',\n",
        "        '最近一个月提供信贷的日期', '是否是单独申请', '年收入层级']:\n",
        "    if data[i].nunique()<=20:\n",
        "        tmp = pd.get_dummies(data[i], prefix=i)\n",
        "        data = pd.concat([data, tmp], axis=1)\n",
        "        print('Processing:' + i)"
      ],
      "metadata": {
        "id": "AoWaWifF_PYP"
      },
      "execution_count": null,
      "outputs": []
    },
    {
      "cell_type": "code",
      "source": [
        "#数据去重\n",
        "data = data.drop_duplicates(subset=['ID', '用户ID'], keep='first')\n",
        "data = data.sort_values(by='贷款获得资助的年月', ascending=False)\n",
        "df = data.drop_duplicates(subset=['用户ID'], keep='first')\n",
        "df.columns = ['最后一次借款_'+i for i in df.columns]\n",
        "df = df.rename(columns={'最后一次借款_ID':'ID', '最后一次借款_用户ID':'用户ID'}) \n",
        "print('用户样本的大小为：%d'%df.shape[0])\n",
        "print('贷款案件样本的大小为：%d'%data.shape[0])"
      ],
      "metadata": {
        "id": "sMx_FpMB_YCR"
      },
      "execution_count": null,
      "outputs": []
    },
    {
      "cell_type": "code",
      "source": [
        "df.head()"
      ],
      "metadata": {
        "id": "3szbPquLAB5W"
      },
      "execution_count": null,
      "outputs": []
    },
    {
      "cell_type": "code",
      "source": [
        "data.shape"
      ],
      "metadata": {
        "id": "S4ii6wZPAGLI"
      },
      "execution_count": null,
      "outputs": []
    },
    {
      "cell_type": "code",
      "source": [
        "# 贷款基本情况：\n",
        "# 贷款品质中以好账为主，占比高达92.43%，坏账占比不到8%，情况乐观；\n",
        "# Lendding Club 平台坏账比例在2016-2018年明显下降，说明平台开始重视对风险的控制；\n",
        "# 用户画像：\n",
        "# 用户主要分布在加州，因为Lending Club总部在加州，对本地业务开拓比较深；其次是纽约州和德克萨斯州；\n",
        "# 用户职业主要都是老师、管理者；\n",
        "# 大部分用户工作了10+年以上，其余用户工作年限非常均匀，从1到9年的都有，数量相差不多;\n",
        "# 极大部分用户年收入都大于20000美元，其中高于60000的用户占比大于50%；\n",
        "# 大部分用户贷款是为了债务整合(借新债还旧债)、还信用卡；50% 以上用户房子还在按揭，40%用户还在租房，不到10%的用户拥有自己的房子\n",
        "# 绝大部分用户的 贬损公共设施的记录次数小于三次"
      ],
      "metadata": {
        "id": "Wi5oL1HsAh55"
      },
      "execution_count": null,
      "outputs": []
    },
    {
      "cell_type": "code",
      "source": [
        "f, (ax1, ax2) = plt.subplots(1, 2, figsize=(16, 6))\n",
        "#贷款品质情况\n",
        "data['贷款现状'].value_counts().plot.pie(\n",
        "    autopct='%1.2f%%', ax=ax1, fontsize=12, startangle=70)\n",
        "ax1.set_title('GOOD OR BAD')\n",
        "ax1.set_ylabel(\"贷款现状（%）\")\n",
        "ax1.legend()\n",
        "#正负样本数量差距悬殊，对于后面建模而言是个很大问题\n",
        "\n",
        "#发放贷款数量按照年度分布情况\n",
        "sns.barplot(\n",
        "    x='贷款获得资助的年份',\n",
        "    y='贷款金额',\n",
        "    data=data,\n",
        "    hue='贷款现状',\n",
        "    estimator=lambda x: len(x) / len(data) * 100,\n",
        "    ax=ax2)\n",
        "ax2.set_title('贷款金额')\n",
        "ax2.set_ylabel('%')\n",
        "ax2.set_xlabel('贷款获得资助的年份')\n",
        "ax2.legend()\n",
        "# plt.savefig(\"pictures/Lending Club 贷款质量与总额分布情况.png\",dpi=1000,bbox_inches = 'tight')\n",
        "plt.savefig(os.getcwd()+'/datasets/src/'+\"temp/pictures/Lending Club 贷款质量与总额分布情况.png\",dpi=1000,bbox_inches = 'tight')"
      ],
      "metadata": {
        "id": "ZmG2QchHBbcj"
      },
      "execution_count": null,
      "outputs": []
    },
    {
      "cell_type": "code",
      "source": [
        "# 地域分布\n",
        "fig1 = plt.figure()\n",
        "ax1 = fig1.add_subplot(111)\n",
        "df['最后一次借款_州简称'].value_counts()[0:19].plot(kind='bar',color=\"royalblue\",fontsize=12)\n",
        "plt.title(\"Lending Club 客户地域分布情况\",fontsize=16)\n",
        "plt.subplots_adjust(top=1,bottom=0,left=0,right=1,hspace=0,wspace=0)\n",
        "#plt.savefig(\"temp/pictures/Lending Club 客户地域分布情况.png\",dpi=1000,bbox_inches = 'tight')\n",
        "plt.show()"
      ],
      "metadata": {
        "id": "dNG9y0cFBbfB"
      },
      "execution_count": null,
      "outputs": []
    },
    {
      "cell_type": "code",
      "source": [
        "#就业年限\n",
        "fig2=plt.figure()\n",
        "ax1 = fig2.add_subplot(111)\n",
        "df['最后一次借款_就业年限'].value_counts().plot(kind='bar',color=\"royalblue\",fontsize=12)\n",
        "plt.title(\"Lending Club 客户工作年龄分布情况\",fontsize=16)\n",
        "plt.subplots_adjust(top=1,bottom=0,left=0,right=1,hspace=0,wspace=0)\n",
        "#plt.savefig(\"temp/pictures/Lending Club 客户工作年龄分布情况.png\",dpi=1000,bbox_inches = 'tight')\n",
        "plt.show()"
      ],
      "metadata": {
        "id": "UeINfguQKdDs"
      },
      "execution_count": null,
      "outputs": []
    },
    {
      "cell_type": "code",
      "source": [
        "# 职业分布\n",
        "fig3 = plt.figure()\n",
        "ax1 = fig3.add_subplot(111)\n",
        "df['最后一次借款_职称'].value_counts()[0:14][::-1].plot(kind='barh',color=\"royalblue\",fontsize=12)\n",
        "plt.title(\"Lending Club 客户职业分布情况\",fontsize=16)\n",
        "plt.subplots_adjust(top=1,bottom=0,left=0,right=1,hspace=0,wspace=0)\n",
        "#plt.savefig(\"temp/pictures/Lending Club 客户职业分布情况.png\",dpi=1000,bbox_inches = 'tight')#解决图片不清晰，不完整的问题\n",
        "plt.show()"
      ],
      "metadata": {
        "id": "F2wU2vdFBbhM"
      },
      "execution_count": null,
      "outputs": []
    },
    {
      "cell_type": "code",
      "source": [
        "fig4=plt.figure()\n",
        "ax1 = fig4.add_subplot(111)\n",
        "df['最后一次借款_年收入层级'].value_counts()[::-1].plot(kind='barh',color=\"royalblue\",fontsize=12)\n",
        "plt.title(\"Lending Club 客户年收入($)分布情况\",fontsize=16)\n",
        "plt.subplots_adjust(top=1,bottom=0,left=0,right=1,hspace=0,wspace=0)\n",
        "#plt.savefig(\"temp/pictures/Lending Club 客户年收入($)分布情况.png\",dpi=1000,bbox_inches = 'tight')\n",
        "plt.show()"
      ],
      "metadata": {
        "id": "2HsM8tzTBbjj"
      },
      "execution_count": null,
      "outputs": []
    },
    {
      "cell_type": "code",
      "source": [
        "fig5=plt.figure()\n",
        "ax1 = fig5.add_subplot(111)\n",
        "df['最后一次借款_房屋所有权状态'].replace({\"MORTGAGE\":\"还贷\",\"RENT\":\"租房\",\"OWN\":\"自有住房\",\"ANY\":\"其他\",\"OTHER\":\"其他\",\"NONE\":\"其他\"},inplace=True)\n",
        "plt.pie(df['最后一次借款_房屋所有权状态'].dropna().value_counts(),labels=[\"还贷\",\"租房\",\"自有住房\",\"其他\"],autopct=\"%1.1f%%\")\n",
        "plt.title(\"Lending Club 客户住房分布情况\",fontsize=16)\n",
        "plt.subplots_adjust(top=1,bottom=0,left=0,right=1,hspace=0,wspace=0)\n",
        "#plt.savefig(\"temp/pictures/Lending Club 客户住房分布情况.png\",dpi=1000,bbox_inches = 'tight')\n",
        "plt.show()"
      ],
      "metadata": {
        "id": "7g5M000pK43Z"
      },
      "execution_count": null,
      "outputs": []
    },
    {
      "cell_type": "code",
      "source": [
        "fig6=plt.figure()\n",
        "ax1 = fig6.add_subplot(111)\n",
        "pub_v=df['最后一次借款_贬损公共记录的数量'].value_counts()\n",
        "x_ticks=list(range(6))\n",
        "pub_v[0:5].plot(kind='bar',color='royalblue',fontsize=12)\n",
        "plt.xticks(x_ticks,rotation=0)\n",
        "pub_p=pub_v/pub_v.sum()     # 计算所占百分比\n",
        "pub_p=pub_p.apply(lambda x:format(x,'.2%'))[0:5] # 转换百分比显示\n",
        "plt.title(\"1.6 Lending Club 贬损公共记录分布情况\",fontsize=16)\n",
        "plt.subplots_adjust(top=1,bottom=0,left=0,right=1,hspace=0,wspace=0)\n",
        "#plt.savefig(\"temp/pictures/Lending Club 贬损公共记录分布情况.png\",dpi=1000,bbox_inches = 'tight') # 解决图片不清晰，不完整的问题\n",
        "plt.show()"
      ],
      "metadata": {
        "id": "nCLPl0ozLS34"
      },
      "execution_count": null,
      "outputs": []
    },
    {
      "cell_type": "code",
      "source": [
        "fig7=plt.figure()\n",
        "ax1=fig7.add_subplot(111)\n",
        "new_ticks=np.linspace(-2,48,6)\n",
        "plt.hist(df['最后一次借款_收入负债比（总额）'].dropna(),range=(-2,50),bins=10,color=\"royalblue\")\n",
        "plt.xticks(new_ticks)\n",
        "plt.title(\"Lending Club 收入负债比（总额）分布情况\",fontsize=16)\n",
        "plt.subplots_adjust(top=1,bottom=0,left=0,right=1,hspace=0,wspace=0)\n",
        "#plt.savefig(\"temp/pictures/Lending Club 收入负债比（总额）分布情况.png\",dpi=1000,bbox_inches = 'tight')\n",
        "plt.show()"
      ],
      "metadata": {
        "id": "61z4s1PJLyAg"
      },
      "execution_count": null,
      "outputs": []
    },
    {
      "cell_type": "code",
      "source": [
        "fig8 = plt.figure()\n",
        "ax1 = fig8.add_subplot(111)\n",
        "df['最后一次借款_贷款目的'].value_counts(ascending=True).plot(kind='barh',fontsize=12,color=\"royalblue\")\n",
        "plt.title(\"Lending Club 贷款目的分布情况\",fontsize=16)\n",
        "plt.subplots_adjust(top=1,bottom=0,left=0,right=1,hspace=0,wspace=0)\n",
        "#plt.savefig(\"temp/pictures/Lending Club 贷款目的分布情况.png\",dpi=1000,bbox_inches = 'tight')\n",
        "plt.show()"
      ],
      "metadata": {
        "id": "gkm9yCxZL_z3"
      },
      "execution_count": null,
      "outputs": []
    },
    {
      "cell_type": "code",
      "source": [
        "#标签体系设计\n",
        "#简单的来说就是可以把用户分配到多少个类里面去，当然每个用户也都可以分到多个不同的类上面\n",
        "#三种思路：1.结构化标签体系，2.半结构化标签体系，3.非结构化标签体系\n",
        "#1.结构化：可以组织成比较规整的树或者森林，明确的层级划分和父子关系\n",
        "#2.半结构化：某种程度上体现了结构化，但是不规整\n",
        "#3.非结构化：各个标签就事论事，没有体系而言。举例：用户的搜索关键词\n",
        "#本案例是结构化数据"
      ],
      "metadata": {
        "id": "LlTKeFKpMLPw"
      },
      "execution_count": null,
      "outputs": []
    },
    {
      "cell_type": "code",
      "source": [
        "indi_attr = ['最后一次借款_职称',  '最后一次借款_就业年限', '最后一次借款_房屋所有权状态', '最后一次借款_年收入', '最后一次借款_邮政编码', '最后一次借款_州简称']\n",
        "df[indi_attr].head()"
      ],
      "metadata": {
        "id": "uF7CH_ZYPU8U"
      },
      "execution_count": null,
      "outputs": []
    },
    {
      "cell_type": "code",
      "source": [
        "df['最后一次借款_职称'].head()"
      ],
      "metadata": {
        "id": "72x7jrWWPWOw"
      },
      "execution_count": null,
      "outputs": []
    },
    {
      "cell_type": "code",
      "source": [
        "from sklearn.feature_extraction.text import CountVectorizer, TfidfVectorizer, TfidfTransformer\n",
        "vectorizer = CountVectorizer(min_df=1000)#设定最小的词频为10000\n",
        "count = vectorizer.fit_transform(df['最后一次借款_职称'].fillna(''))#词袋计数\n",
        "transformer = TfidfTransformer()\n",
        "tfidf_matrix = transformer.fit_transform(count)\n",
        "\n",
        "df_job= pd.DataFrame(tfidf_matrix.toarray(), columns=vectorizer.get_feature_names(), index=df.index)\n",
        "df_job.head()"
      ],
      "metadata": {
        "id": "ngziXI08PzXt"
      },
      "execution_count": null,
      "outputs": []
    },
    {
      "cell_type": "code",
      "source": [
        "print(count[:5])"
      ],
      "metadata": {
        "id": "rlwdM5jQQOo2"
      },
      "execution_count": null,
      "outputs": []
    },
    {
      "cell_type": "code",
      "source": [
        "print(tfidf_matrix[:5])"
      ],
      "metadata": {
        "id": "96I9DH19Q6yT"
      },
      "execution_count": null,
      "outputs": []
    },
    {
      "cell_type": "code",
      "source": [
        "df_job.columns"
      ],
      "metadata": {
        "id": "OR4hDz-1bCpx"
      },
      "execution_count": null,
      "outputs": []
    },
    {
      "cell_type": "code",
      "source": [
        "fact_label = data.groupby('用户ID')['贷款金额'].agg([np.sum, np.mean, np.min, np.max, np.count_nonzero])#聚合窗口\n",
        "fact_label.columns = ['历史_贷款金额总和', '历史_贷款平均金额', '历史_贷款最小金额', '历史_贷款最大金额', '历史_贷款次数']\n",
        "fact_label = fact_label.reset_index()\n",
        "fact_label.head()"
      ],
      "metadata": {
        "id": "VlO1Z0Xk8nqQ"
      },
      "execution_count": null,
      "outputs": []
    },
    {
      "cell_type": "code",
      "source": [
        "#因子分析，先两两配对，计算相关性、\n",
        "# 我们先使用探索性因子分析的方法来找出标签数据中含有的因子个数，以及各个因子和各个标签之间的相关程度，试图揭示一套相对比较大的标签数据集的内在结构。\n",
        "# 两两相关性高于阈值的标签暂留一个\n",
        "# 原因是进行因子分析时需进行矩阵分解，如果标签之间相关性太高可能造成求矩阵的伪逆时失败\n",
        "\n",
        "#cor_stat = df.select_dtypes(exclude=object) #筛选出来需要用的数据\n",
        "#cor_stat = df.select_dtypes(exclude=object).corr(method='spearman') #建立corr矩阵\n",
        "#cor_stat = df.select_dtypes(exclude=object).corr(method='spearman').stack() #从矩阵改变成结构目录\n",
        "cor_stat = df.select_dtypes(exclude=object).corr(method='spearman').stack().reset_index()#index从树状结构变成表结构\n",
        "cor_stat.columns = ['feat1', 'feat2', 'r']\n",
        "cor_stat = cor_stat[cor_stat['feat1']!=cor_stat['feat2']]\n",
        "cor_stat = cor_stat.sort_values(by='r', ascending=False)\n",
        "cor_stat.head(20)"
      ],
      "metadata": {
        "id": "xDGkv3y38s4O"
      },
      "execution_count": null,
      "outputs": []
    },
    {
      "cell_type": "code",
      "source": [
        "drop_col=[]\n",
        "while cor_stat[cor_stat['r']>0.95].shape[0]!=0:#筛选corr高于0.95的值\n",
        "    nomi = cor_stat.iloc[0]['feat1']\n",
        "    drop_col += [nomi]\n",
        "    print('相关性高于阈值的标签暂留一个，删去：', nomi)#每次只删第一列\n",
        "    cor_stat = cor_stat[(cor_stat['feat1']!=nomi)&(cor_stat['feat2']!=nomi)]"
      ],
      "metadata": {
        "id": "C-B1Z6ytfsB7"
      },
      "execution_count": null,
      "outputs": []
    },
    {
      "cell_type": "code",
      "source": [
        "std_stat = df.std()#计算每一列数据的标准差\n",
        "std_stat[std_stat<100].hist()"
      ],
      "metadata": {
        "id": "NbTQGy8gksz5"
      },
      "execution_count": null,
      "outputs": []
    },
    {
      "cell_type": "code",
      "source": [
        "std_stat[std_stat<0.5].shape"
      ],
      "metadata": {
        "id": "YMo6dsuapkF8"
      },
      "execution_count": null,
      "outputs": []
    },
    {
      "cell_type": "code",
      "source": [
        "weak_std_col = std_stat[std_stat<0.5].index.tolist()#有50个小于0.5标准差的\n",
        "weak_std_col"
      ],
      "metadata": {
        "id": "3w5WO-aXkubA"
      },
      "execution_count": null,
      "outputs": []
    },
    {
      "cell_type": "code",
      "source": [
        "#只留下可能与潜在标签有业务关系的特征\n",
        "df2=df.select_dtypes(exclude=object).drop(['ID','用户ID','最后一次借款_贷款获得资助的月份'] + weak_std_col + drop_col, axis=1)\n",
        "print('用于因子分析的特征有%d个'%df2.shape[1])"
      ],
      "metadata": {
        "id": "63fbYSbomO5J"
      },
      "execution_count": null,
      "outputs": []
    },
    {
      "cell_type": "code",
      "source": [
        "#标准化数据\n",
        "ss = StandardScaler()\n",
        "df2 = pd.DataFrame(ss.fit_transform(df2), columns=df2.columns)\n",
        "# 对特征进行缺失值填补\n",
        "imp = SimpleImputer()\n",
        "df2 = pd.DataFrame(imp.fit_transform(df2), columns=df2.columns)"
      ],
      "metadata": {
        "id": "P1ElXQE0nHf0"
      },
      "execution_count": null,
      "outputs": []
    },
    {
      "cell_type": "code",
      "source": [
        "# 充分性测试adequency test (Bartlett's Test)\n",
        "chi_square_value,p_value=calculate_bartlett_sphericity(df2)\n",
        "print(chi_square_value)\n",
        "print(p_value)\n",
        "# Bartlett's test of sphericity 是用来检测观察到的变量之间是否关联, 如果检测结果在统计学上不显著, 就不能采用因子分析.\n",
        "# 此处我们的p-value=0, 表明观察到的相关矩阵不是一个identity matrix."
      ],
      "metadata": {
        "id": "IB3krvrfmQrc"
      },
      "execution_count": null,
      "outputs": []
    },
    {
      "cell_type": "code",
      "source": [
        "# 充分性测试（Kaiser-Meyer-Olkin Test）\n",
        "kmo_all,kmo_model=calculate_kmo(df2)\n",
        "# print(kmo_all)\n",
        "print(kmo_model)\n",
        "#Kaiser-Meyer-Olkin (KMO) Test 就是需要kmo值要大于0.6才能进行下一步因子分析"
      ],
      "metadata": {
        "id": "pIldpU9zmQtb"
      },
      "execution_count": null,
      "outputs": []
    },
    {
      "cell_type": "code",
      "source": [
        "fa = FactorAnalyzer(25, rotation=None)\n",
        "fa.fit(df2)\n",
        "ev, v = fa.get_eigenvalues()\n",
        "plt.scatter(range(1,df2.shape[1]+1),ev)\n",
        "plt.plot(range(1,df2.shape[1]+1),ev)\n",
        "plt.title('Scree Plot')\n",
        "plt.xlabel('Factors')\n",
        "plt.ylabel('Eigenvalue')\n",
        "plt.grid()\n",
        "plt.show()"
      ],
      "metadata": {
        "id": "IsnO6R_SmQvc"
      },
      "execution_count": null,
      "outputs": []
    },
    {
      "cell_type": "code",
      "source": [
        "#选7个变量\n",
        "fa = FactorAnalyzer(6, rotation=\"varimax\")\n",
        "fa.fit(df2)\n",
        "# 系数\n",
        "fa.loadings_[:5]"
      ],
      "metadata": {
        "id": "zrljjc7cnYKH"
      },
      "execution_count": null,
      "outputs": []
    },
    {
      "cell_type": "code",
      "source": [
        "df_cm = pd.DataFrame(fa.loadings_, index=df2.columns)\n",
        "plt.figure(figsize = (12,18))\n",
        "sns.heatmap(df_cm, annot=True, cmap=\"BuPu\")\n",
        "# 设置y轴的字体的大小\n",
        "plt.title('Factor Analysis', fontsize='xx-large')\n",
        "# Set y-axis label\n",
        "plt.ylabel('Sepal Width', fontsize='xx-large')\n",
        "# plt.savefig('temp/pictures/factorAnalysis.png', dpi=500)"
      ],
      "metadata": {
        "id": "O7tAcNFGneE_"
      },
      "execution_count": null,
      "outputs": []
    },
    {
      "cell_type": "code",
      "source": [
        "# 第一个因子体现的是借款人信用额度的维度。\n",
        "# 第二个因子主要解释了借款人共债风险的维度\n",
        "# 第三个因子主要解释了借款人资金紧张情况的维度\n",
        "# 第四个因子主要解释了借款产品相关的维度\n",
        "# 第五个因子体现了借款人还款情况的维度"
      ],
      "metadata": {
        "id": "byoDNd8pn1HP"
      },
      "execution_count": null,
      "outputs": []
    },
    {
      "cell_type": "code",
      "source": [
        "# 因子分析得出的只是数据集内部在统计学上面的联系，我们还需要结合对各个标签分析的结果，\n",
        "# 及业务逻辑上的考量来选定用来合成标签所用的特征。\n",
        "# 如果有待合成标签的人工标签，我们可以通过逻辑回归建模得到特征与待合成标签的正负关联性和特征重要性。\n",
        "# 但如果没有待合成标签的实际标签，也不能获取能够令人信服的实际标签替代品时，\n",
        "# 我们可以通过因子分析判断特征的重要性，并且通过业务逻辑判断特征与待合成标签相关性的正负性。\n",
        "from sklearn.preprocessing import StandardScaler\n",
        "def mix_index(data, cols, neg_col):\n",
        "    # 融合方式：标准化后取平均\n",
        "    stdsc=StandardScaler()\n",
        "    dat = data[cols]\n",
        "    dat[neg_col] = -dat[neg_col]\n",
        "    for col in cols:\n",
        "        data[col] = stdsc.fit_transform(data[[col]]) \n",
        "        data[col].fillna(data[col].mean(), inplace=True)\n",
        "    return data[cols].apply(lambda x: x.sum()/len(cols), axis=1)"
      ],
      "metadata": {
        "id": "Dn5q7xyRoMMd"
      },
      "execution_count": null,
      "outputs": []
    },
    {
      "cell_type": "code",
      "source": [
        "#借款人信用风险指数\n",
        "#我们列出了对因子的贡献度在0.4以上的特征\n",
        "col1 = df_cm[0][df_cm[0]>0.4].index.tolist()\n",
        "col1"
      ],
      "metadata": {
        "id": "rFtp4SSqoMpS"
      },
      "execution_count": null,
      "outputs": []
    },
    {
      "cell_type": "code",
      "source": [
        "#结合之前的逻辑需求\n",
        "col1 = ['最后一次借款_承诺放贷金额（贷款人）',\n",
        "       '最后一次借款_年收入',\n",
        "       '最后一次借款_未结信用额度',\n",
        "       '最后一次借款_总信贷周转余额',\n",
        "       '最后一次借款_当前信用额度的总数',\n",
        "       '最后一次借款_所有帐户的当前总余额',\n",
        "       '最后一次借款_所有分期付款帐户的当前总余额',\n",
        "       '最后一次借款_所有周转账户的最大当前余额',\n",
        "       '最后一次借款_总循环高信用/信用额度',\n",
        "       '最后一次借款_除房贷之外的信用负债']\n",
        "col1"
      ],
      "metadata": {
        "id": "ZYUg7v01oPD9"
      },
      "execution_count": null,
      "outputs": []
    },
    {
      "cell_type": "code",
      "source": [
        "neg_col1 = ['最后一次借款_承诺放贷金额（贷款人）', '最后一次借款_年收入', '最后一次借款_总信贷周转余额',\n",
        "           '最后一次借款_当前信用额度的总数', '最后一次借款_所有帐户的当前总余额', '最后一次借款_所有分期付款帐户的当前总余额',\n",
        "           '最后一次借款_所有周转账户的最大当前余额', '最后一次借款_总循环高信用/信用额度']\n",
        "df.loc[:, '借款人信用风险指数'] = mix_index(df, col1, neg_col1)\n",
        "\n",
        "col2 = df_cm[1][df_cm[1]>0.4].index.tolist()\n",
        "col2\n",
        "\n",
        "col2 = ['最后一次借款_过去12个月的信用查询次数',\n",
        "        '最后一次借款_过去12个月内开立的分期付款帐户数量',\n",
        "        '最后一次借款_过去24个月内开立的分期付款帐户数量',\n",
        "        '最后一次借款_所有分期付款帐户的当前总余额',\n",
        "        '最后一次借款_个人理财咨询数量',\n",
        "        '最后一次借款_除房贷之外的信用负债']\n",
        "col2"
      ],
      "metadata": {
        "id": "blB1H0FZLawG"
      },
      "execution_count": null,
      "outputs": []
    },
    {
      "cell_type": "code",
      "source": [
        "neg_col2 = ['最后一次借款_所有分期付款帐户的当前总余额']\n",
        "df.loc[:, '借款人共债风险指数'] = mix_index(df, col2, neg_col2)"
      ],
      "metadata": {
        "id": "1a35NKPmLAHp"
      },
      "execution_count": null,
      "outputs": []
    },
    {
      "cell_type": "code",
      "source": [
        "col3 = df_cm[2][df_cm[2]>0.4].index.tolist()\n",
        "col3\n",
        "\n",
        "neg_col3 = []\n",
        "df.loc[:, '借款人资金周转风险指数'] = mix_index(df, col3, neg_col3)"
      ],
      "metadata": {
        "id": "5E6fZ1zJLAKJ"
      },
      "execution_count": null,
      "outputs": []
    },
    {
      "cell_type": "code",
      "source": [
        "col4 = df_cm[4][df_cm[4]>0.4].index.tolist()\n",
        "col4\n",
        "\n",
        "col4 = ['最后一次借款_迄今已收本金', '最后一次借款_上次收到的总付款金额',\n",
        "        '最后一次借款_剩余未偿还本金', '最后一次借款_剩余未偿还本金（本人）']\n",
        "col4\n",
        "\n",
        "neg_col4 = ['最后一次借款_剩余未偿还本金', '最后一次借款_剩余未偿还本金（本人）']\n",
        "df.loc[:, '借款人还款意愿指数'] = mix_index(df, col4, neg_col4)\n",
        "\n",
        "df[['用户ID', '借款人信用风险指数', '借款人共债风险指数', '借款人资金周转风险指数', '借款人还款意愿指数']]\n",
        "#.to_csv('./work/member_tag.csv', index=None)"
      ],
      "metadata": {
        "id": "uwgo5DbjLAM0"
      },
      "execution_count": null,
      "outputs": []
    },
    {
      "cell_type": "code",
      "source": [
        "#机器学习部分\n",
        "df[indi_attr].isnull().sum()/len(df)#查看缺失率等情况"
      ],
      "metadata": {
        "id": "7LQr3UyFM5Qo"
      },
      "execution_count": null,
      "outputs": []
    },
    {
      "cell_type": "code",
      "source": [
        "imp_model_col = \\\n",
        "['最后一次借款_上次公开记录以来的月数',\n",
        " '最后一次借款_剩余未偿还本金',\n",
        " '最后一次借款_剩余未偿还本金（本人）',\n",
        " '最后一次借款_年收入',\n",
        " '最后一次借款_年收入层级_High',\n",
        " '最后一次借款_年收入层级_Low',\n",
        " '最后一次借款_年收入层级_Medium',\n",
        " '最后一次借款_当前信用额度的总数',\n",
        " '最后一次借款_循环利用率',\n",
        " '最后一次借款_总信贷周转余额',\n",
        " '最后一次借款_房屋所有权状态等级',\n",
        " '最后一次借款_承诺放贷金额（贷款人）',\n",
        " '最后一次借款_承诺放贷金额（贷款）',\n",
        " '最后一次借款_收入负债比（总额）',\n",
        " '最后一次借款_收入验证',\n",
        " '最后一次借款_是否实施还款计划_n',\n",
        " '最后一次借款_是否实施还款计划_y',\n",
        " '最后一次借款_最后一次拖欠以来的月数',\n",
        " '最后一次借款_未结信用额度',\n",
        " '最后一次借款_每月还款',\n",
        " '最后一次借款_贬损公共记录的数量',\n",
        " '最后一次借款_贷款子等级',\n",
        " '最后一次借款_贷款期数',\n",
        " '最后一次借款_贷款等级_A',\n",
        " '最后一次借款_贷款等级_B',\n",
        " '最后一次借款_贷款等级_C',\n",
        " '最后一次借款_贷款等级_D',\n",
        " '最后一次借款_贷款等级_E',\n",
        " '最后一次借款_贷款等级_F',\n",
        " '最后一次借款_贷款等级_G',\n",
        " '最后一次借款_贷款等级_INT',\n",
        " '最后一次借款_贷款金额',\n",
        " '最后一次借款_过去12个月的信用查询次数',\n",
        " '最后一次借款_过去6个月的查询数目',\n",
        " '最后一次借款_过去两年借款人逾期30天以上的事件数']"
      ],
      "metadata": {
        "id": "V_K7kDZDNPC6"
      },
      "execution_count": null,
      "outputs": []
    },
    {
      "cell_type": "code",
      "source": [
        "train = df[imp_model_col + ['ID', '最后一次借款_就业年限']].copy()\n",
        "train.head()"
      ],
      "metadata": {
        "id": "3rNADumiN42x"
      },
      "execution_count": null,
      "outputs": []
    },
    {
      "cell_type": "code",
      "source": [
        "test = train[train['最后一次借款_就业年限'].isnull()]\n",
        "train = train[train['最后一次借款_就业年限'].notnull()]\n",
        "train, val = train_test_split(train, test_size=0.2, random_state=42)"
      ],
      "metadata": {
        "id": "xuqNUtHpN7Y5"
      },
      "execution_count": null,
      "outputs": []
    },
    {
      "cell_type": "code",
      "source": [
        "#y是最后一次借款_就业年限\n",
        "dtrain = xgb.DMatrix(train.drop(['ID', '最后一次借款_就业年限'], axis=1), label=train['最后一次借款_就业年限'])\n",
        "dval = xgb.DMatrix(val.drop(['ID', '最后一次借款_就业年限'], axis=1), label=val['最后一次借款_就业年限'])\n",
        "dtest = xgb.DMatrix(test.drop(['ID', '最后一次借款_就业年限'], axis=1))"
      ],
      "metadata": {
        "id": "KA57EDRtOTAm"
      },
      "execution_count": null,
      "outputs": []
    },
    {
      "cell_type": "code",
      "source": [
        "train.head(5)"
      ],
      "metadata": {
        "id": "fatMFRI2Qep0"
      },
      "execution_count": null,
      "outputs": []
    },
    {
      "cell_type": "code",
      "source": [
        "#定义一些超参数\n",
        "params = {}\n",
        "params['objective'] = 'reg:linear'\n",
        "params['eval_metric'] = 'rmse'\n",
        "params['min_child_weight'] = 10\n",
        "params['eta'] = 0.1\n",
        "params['max_depth'] = 4\n",
        "params['subsample'] = 0.7\n",
        "params['colsample_bytree'] = 0.5\n",
        "params['silent'] = 0\n",
        "params['seed'] = 42\n",
        "params['lambda'] = 10\n",
        "params['max_delta_step'] = 0\n",
        "params['early_stopping_rounds'] = 10\n",
        "\n",
        "watchlist = [(dtrain, 'train'), (dval, 'eval')]\n",
        "model1 = xgb.train(params, dtrain, num_boost_round=10000, evals=watchlist,\n",
        "                  verbose_eval=True, early_stopping_rounds=30)"
      ],
      "metadata": {
        "id": "_zEzsvaFOdGC"
      },
      "execution_count": null,
      "outputs": []
    },
    {
      "cell_type": "code",
      "source": [
        "pred_test = model1.predict(dtest)\n",
        "test['最后一次借款_就业年限'] = pred_test\n",
        "\n",
        "df.set_index('ID', inplace=True)\n",
        "df.loc[test['ID'], '最后一次借款_就业年限'] = test['最后一次借款_就业年限']\n",
        "df = df.reset_index()\n",
        "\n",
        "df['最后一次借款_就业年限'].isnull().sum()"
      ],
      "metadata": {
        "id": "9quo0-bgQb-Y"
      },
      "execution_count": null,
      "outputs": []
    },
    {
      "cell_type": "code",
      "source": [
        "after_loan_feature = ['最后一次借款_上次收到的总付款金额', '最后一次借款_迄今已收滞纳金', '最后一次借款_剩余未偿还本金（本人）',\n",
        "                      '最后一次借款_剩余未偿还本金', '最后一次借款_迄今已收本金', '最后一次借款_贷款子等级', '借款人信用风险指数',\n",
        "                      '借款人共债风险指数', '借款人资金周转风险指数', '借款人还款意愿指数', '最后一次借款_贷款现状_Bad Loan',\n",
        "                      '最后一次借款_迄今已收利息', '最后一次借款_收取总回收费用', '最后一次借款_迄今还款总额',\n",
        "                      '最后一次借款_迄今为止收到的由投资者资助的部分总金额', '最后一次借款_贷款现状_Good Loan'] + \\\n",
        "                     [i for i in list(df) if '贷款等级' in i]\n",
        "\n",
        "y = df['最后一次借款_贷款现状标签']\n",
        "x = df.drop(['ID', '用户ID', '最后一次借款_贷款获得资助的年份','最后一次借款_贷款获得资助的月份', '最后一次借款_贷款现状标签'] + \\\n",
        "            after_loan_feature, axis=1).select_dtypes(exclude=object)\n",
        "\n",
        "x_train, x_test, true_train, true_test = train_test_split(x, y, test_size=0.2, random_state=42)\n",
        "x_train, x_val, true_train, true_val = train_test_split(x_train, true_train, test_size=0.2, random_state=42)\n",
        "dtrain = xgb.DMatrix(x_train, label=true_train)\n",
        "dval = xgb.DMatrix(x_val, label=true_val)\n",
        "dtest = xgb.DMatrix(x_test, label=true_test)\n",
        "\n",
        "y.value_counts()"
      ],
      "metadata": {
        "id": "MwNYMZF7VVLZ"
      },
      "execution_count": null,
      "outputs": []
    },
    {
      "cell_type": "code",
      "source": [
        "params = {}\n",
        "params['objective'] = 'binary:logistic'\n",
        "params['eval_metric'] = 'auc'\n",
        "params['min_child_weight'] = 11\n",
        "params['eta'] = 0.1\n",
        "params['max_depth'] = 2\n",
        "params['subsample'] = 0.5\n",
        "params['colsample_bytree'] = 0.5\n",
        "params['silent'] = 0\n",
        "params['seed'] = 2019\n",
        "params['lambda'] = 10\n",
        "params['max_delta_step'] = 0\n",
        "params['scale_pos_weight'] = 12\n",
        "params['early_stopping_rounds'] = 10\n",
        "\n",
        "watchlist = [(dtrain, 'train'), (dval, 'eval')]\n",
        "model1 = xgb.train(params, dtrain, num_boost_round=10000, evals=watchlist,\n",
        "                  verbose_eval=True, early_stopping_rounds=30)"
      ],
      "metadata": {
        "id": "ZLZPKp4WVs0w"
      },
      "execution_count": null,
      "outputs": []
    },
    {
      "cell_type": "code",
      "source": [
        "# #!pip install model_evaluation\n",
        "# from model_evaluation import get_xgb_fi\n",
        "# fi,_ = get_xgb_fi(model1,'rank')\n",
        "# fi.head(5)"
      ],
      "metadata": {
        "id": "ZlViojpIVxn_"
      },
      "execution_count": null,
      "outputs": []
    },
    {
      "cell_type": "code",
      "source": [],
      "metadata": {
        "id": "zhhYH9pQV5_G"
      },
      "execution_count": null,
      "outputs": []
    }
  ]
}