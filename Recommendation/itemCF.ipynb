{
  "nbformat": 4,
  "nbformat_minor": 0,
  "metadata": {
    "colab": {
      "private_outputs": true,
      "provenance": []
    },
    "kernelspec": {
      "name": "python3",
      "display_name": "Python 3"
    },
    "language_info": {
      "name": "python"
    }
  },
  "cells": [
    {
      "cell_type": "code",
      "source": [
        "import math\n",
        "import random\n",
        "import pandas as pd\n",
        "from collections import defaultdict\n",
        "from operator import itemgetter"
      ],
      "metadata": {
        "id": "TyMXrtSeccSW"
      },
      "execution_count": null,
      "outputs": []
    },
    {
      "cell_type": "code",
      "source": [
        "#一般在推荐系统中，数据格式为uid，itemID，target：对应的行为或者打分，时间戳\n",
        "def LoadMovieLensData(filepath, train_rate):\n",
        "    ratings = pd.read_table(filepath, sep=\"::\", header=None, names=[\"UserID\", \"MovieID\", \"Rating\", \"TimeStamp\"],\\\n",
        "                            engine='python')\n",
        "    ratings = ratings[['UserID','MovieID']]\n",
        "    train = []\n",
        "    test = []\n",
        "    random.seed(3)\n",
        "    for idx, row in ratings.iterrows():\n",
        "        user = int(row['UserID'])\n",
        "        item = int(row['MovieID'])\n",
        "        if random.random() < train_rate:\n",
        "            train.append([user, item])\n",
        "        else:\n",
        "            test.append([user, item])\n",
        "    return PreProcessData(train), PreProcessData(test)"
      ],
      "metadata": {
        "id": "gU1aFeLAcdXQ"
      },
      "execution_count": null,
      "outputs": []
    },
    {
      "cell_type": "code",
      "source": [
        "#生成可用数据格式\n",
        "def PreProcessData(originData):\n",
        "    \"\"\"\n",
        "    建立User-Item表，结构如下：\n",
        "        {\"User1\": {MovieID1, MoveID2, MoveID3,...}\n",
        "         \"User2\": {MovieID12, MoveID5, MoveID8,...}\n",
        "         ...\n",
        "        }\n",
        "    \"\"\"\n",
        "    trainData = dict()\n",
        "    for user, item in originData:\n",
        "        trainData.setdefault(user, set())\n",
        "        trainData[user].add(item)\n",
        "    return trainData"
      ],
      "metadata": {
        "id": "tmHP7FzfcdTH"
      },
      "execution_count": null,
      "outputs": []
    },
    {
      "cell_type": "code",
      "source": [
        "class ItemCF(object):\n",
        "    \"\"\" Item based Collaborative Filtering Algorithm Implementation\"\"\"\n",
        "    def __init__(self, trainData, similarity=\"cosine\", norm=True):\n",
        "        self._trainData = trainData\n",
        "        self._similarity = similarity\n",
        "        self._isNorm = norm\n",
        "        self._itemSimMatrix = dict() # 物品相似度矩阵\n",
        "    #生成矩阵\n",
        "    def similarity(self):\n",
        "        N = defaultdict(int) #记录每个物品的喜爱人数\n",
        "        for user, items in self._trainData.items():\n",
        "            for i in items:\n",
        "                self._itemSimMatrix.setdefault(i, dict())\n",
        "                N[i] += 1\n",
        "                for j in items:\n",
        "                    if i == j:\n",
        "                        continue\n",
        "                    self._itemSimMatrix[i].setdefault(j, 0)\n",
        "                    if self._similarity == \"cosine\":\n",
        "                        self._itemSimMatrix[i][j] += 1\n",
        "                    elif self._similarity == \"iuf\":#用户逆频率\n",
        "                        self._itemSimMatrix[i][j] += 1. / math.log1p(len(items) * 1.)\n",
        "        for i, related_items in self._itemSimMatrix.items():\n",
        "            for j, cij in related_items.items():\n",
        "                self._itemSimMatrix[i][j] = cij / math.sqrt(N[i]*N[j])#核心公式，计算相似度\n",
        "        # 是否要标准化物品相似度矩阵\n",
        "        if self._isNorm:\n",
        "            for i, relations in self._itemSimMatrix.items():\n",
        "                max_num = relations[max(relations, key=relations.get)]\n",
        "                # 对字典进行归一化操作之后返回新的字典\n",
        "                self._itemSimMatrix[i] = {k : v/max_num for k, v in relations.items()}\n",
        "\n",
        "    def recommend(self, user, N, K):\n",
        "        \"\"\"\n",
        "        :param user: 被推荐的用户user\n",
        "        :param N: 推荐的商品个数\n",
        "        :param K: 查找的最相似的用户个数\n",
        "        :return: 按照user对推荐物品的感兴趣程度排序的N个商品\n",
        "        \"\"\"\n",
        "        recommends = dict()\n",
        "        # 先获取user的喜爱物品列表\n",
        "        items = self._trainData[user]\n",
        "        for item in items:\n",
        "            # 对每个用户喜爱物品在物品相似矩阵中找到与其最相似的K个\n",
        "            for i, sim in sorted(self._itemSimMatrix[item].items(), key=itemgetter(1), reverse=True)[:K]:\n",
        "                if i in items:\n",
        "                    continue  # 如果与user喜爱的物品重复了，则直接跳过\n",
        "                recommends.setdefault(i, 0.)\n",
        "                recommends[i] += sim\n",
        "        # 根据被推荐物品的相似度逆序排列，然后推荐前N个物品给到用户\n",
        "        return dict(sorted(recommends.items(), key=itemgetter(1), reverse=True)[:N])\n",
        "\n",
        "    def train(self):\n",
        "        self.similarity()\n"
      ],
      "metadata": {
        "id": "dsvOJi00cdVA"
      },
      "execution_count": null,
      "outputs": []
    },
    {
      "cell_type": "code",
      "source": [
        "if __name__ == \"__main__\":\n",
        "    train, test = LoadMovieLensData(\"../Data/ml-1m/ratings.dat\", 0.8)#这里路径根据情况进行修改\n",
        "    print(\"train data size: %d, test data size: %d\" % (len(train), len(test)))\n",
        "    ItemCF = ItemCF(train, similarity='iuf', norm=True)\n",
        "    ItemCF.train()\n",
        "    # 分别对以下4个用户进行物品推荐\n",
        "    print(ItemCF.recommend(1, 5, 80))\n",
        "    print(ItemCF.recommend(2, 5, 80))\n",
        "    print(ItemCF.recommend(3, 5, 80))\n",
        "    print(ItemCF.recommend(4, 5, 80))"
      ],
      "metadata": {
        "id": "wbgJxZOAOx1I"
      },
      "execution_count": null,
      "outputs": []
    }
  ]
}