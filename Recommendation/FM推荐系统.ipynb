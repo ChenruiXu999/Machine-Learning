{
  "nbformat": 4,
  "nbformat_minor": 0,
  "metadata": {
    "colab": {
      "private_outputs": true,
      "provenance": []
    },
    "kernelspec": {
      "name": "python3",
      "display_name": "Python 3"
    },
    "language_info": {
      "name": "python"
    }
  },
  "cells": [
    {
      "cell_type": "code",
      "execution_count": null,
      "metadata": {
        "id": "y47xvXKCqfwS"
      },
      "outputs": [],
      "source": [
        "import torch\n",
        "import numpy as np\n",
        "import pandas as pd\n",
        "import torch.nn as nn\n",
        "from itertools import count\n",
        "from scipy.sparse import csr\n",
        "import matplotlib.pyplot as plt\n",
        "from collections import defaultdict\n",
        "from torch.utils.data import Dataset, DataLoader\n",
        "from sklearn.feature_extraction import DictVectorizer"
      ]
    },
    {
      "cell_type": "code",
      "source": [
        "import os\n",
        "from google.colab import drive\n",
        "drive.mount('/content/drive')\n",
        "loadpath = \"/content/drive/My Drive/Colab Notebooks/FM推荐系统\"\n",
        "print(os.chdir(loadpath))\n",
        "print(os.listdir(loadpath))#目前路径\n",
        "# import zipfile\n",
        "# # 传入压缩文件zfile.zip获取相关信息\n",
        "# zip_file = zipfile.ZipFile(loadpath+'/datasets.zip')\n",
        "# # 获取压缩文件中的内容\n",
        "# f_content = zip_file.namelist()\n",
        "# f_content\n",
        "# #解压缩到主目录\n",
        "# zip_extract = zip_file.extractall(loadpath)"
      ],
      "metadata": {
        "id": "SQTwvMgkr4KQ"
      },
      "execution_count": null,
      "outputs": []
    },
    {
      "cell_type": "code",
      "source": [
        "path = \"/content/drive/My Drive/Colab Notebooks/FM推荐系统/datasets\"\n",
        "batch_size = 64\n",
        "learning_rate = 0.0001\n",
        "weight_decay = 0.001\n",
        "loss_dict = []\n",
        "loss_fn =nn.MSELoss()\n",
        "epochs_dict = []\n",
        "DEBUG = True\n",
        "epochs = 3 if DEBUG else 20"
      ],
      "metadata": {
        "id": "_llj1zeksd0C"
      },
      "execution_count": null,
      "outputs": []
    },
    {
      "cell_type": "code",
      "source": [
        "#这里我们主要用的是ua.base和ua.test，\n",
        "#数据集ua.base, ua.test将u.data数据集分为训练集和测试集，每个用户在测试集中具有10个评分。\n",
        "#ua.base和ua.test中的每个样例都分别由四组值（user_id | item_id | rating | timestamp）组成。"
      ],
      "metadata": {
        "id": "4iTFSHTxq_RJ"
      },
      "execution_count": null,
      "outputs": []
    },
    {
      "cell_type": "code",
      "source": [
        "#有943个用户，对应1680个商品，90570多个交易记录\n",
        "cols = ['user','item','rating','timestamp']\n",
        "train = pd.read_csv(path+'/ua.base',delimiter='\\t',names = cols)\n",
        "y_train = train['rating'].values\n",
        "train.head(5)"
      ],
      "metadata": {
        "id": "4NYTOox9xQRv"
      },
      "execution_count": null,
      "outputs": []
    },
    {
      "cell_type": "code",
      "source": [
        "train.shape"
      ],
      "metadata": {
        "id": "ktLH1mNC--mu"
      },
      "execution_count": null,
      "outputs": []
    },
    {
      "cell_type": "code",
      "source": [
        "train['user'].value_counts()"
      ],
      "metadata": {
        "id": "zrg_bXjH_EsQ"
      },
      "execution_count": null,
      "outputs": []
    },
    {
      "cell_type": "code",
      "source": [
        "train['item'].value_counts()"
      ],
      "metadata": {
        "id": "aqsgkahv_Euu"
      },
      "execution_count": null,
      "outputs": []
    },
    {
      "cell_type": "code",
      "source": [
        "#36号user的物品栏\n",
        "train[train['user']==36]"
      ],
      "metadata": {
        "id": "pgN1Z_R-_ibL"
      },
      "execution_count": null,
      "outputs": []
    },
    {
      "cell_type": "code",
      "source": [
        "def vectorize_dic(dic,ix=None,p=None,n=0,g=0):\n",
        "    \"\"\"\n",
        "    dic -- 特征列表字典，关键字是特征名,之后会输入user_id\n",
        "    ix -- 索引 (default None) 这个是item\n",
        "    p -- 特征向量的维度 (number of columns in the sparse matrix) (default None) 有多少个物品\n",
        "    \"\"\"\n",
        "    if ix==None:\n",
        "        ix = dict()\n",
        "    nz = n * g\n",
        "    col_ix = np.empty(nz,dtype = int)#随机生成一个大小为nz的数组，元素为整数\n",
        "    i = 0\n",
        "    for k,lis in dic.items():#这里k就是字典的key，对应的user和item。这里的lis分别对应的user和item的value\n",
        "        # users和users的list，或者是items和items的list\n",
        "        for t in range(len(lis)):\n",
        "            # 为编号为t的user或者item赋值\n",
        "            ix[str(lis[t]) + str(k)] = ix.get(str(lis[t]) + str(k),0) + 1#分别给user和item累计计数\n",
        "            col_ix[i+t*g] = ix[str(lis[t]) + str(k)]#把字典里的数映射到矩阵中\n",
        "        i += 1\n",
        "    row_ix = np.repeat(np.arange(0,n),g)\n",
        "    data = np.ones(nz)\n",
        "    if p == None:\n",
        "        p = len(ix)\n",
        "    ixx = np.where(col_ix < p)\n",
        "    return csr.csr_matrix((data[ixx],(row_ix[ixx],col_ix[ixx])),shape=(n,p)),ix\n",
        "\n",
        "# 分批次训练模型\n",
        "def batcher(X_, y_=None, batch_size=-1):\n",
        "    n_samples = X_.shape[0]\n",
        "    if batch_size == -1:\n",
        "        batch_size = n_samples\n",
        "    if batch_size < 1:\n",
        "        raise ValueError('Parameter batch_size={} 是不支持的'.format(batch_size))\n",
        "    for i in range(0, n_samples, batch_size):\n",
        "        upper_bound = min(i + batch_size, n_samples)\n",
        "        ret_x = X_[i:upper_bound]\n",
        "        ret_y = None\n",
        "        if y_ is not None:\n",
        "            ret_y = y_[i:i + batch_size]\n",
        "            yield (ret_x, ret_y)"
      ],
      "metadata": {
        "id": "X4UxSWrjrtCu"
      },
      "execution_count": null,
      "outputs": []
    },
    {
      "cell_type": "code",
      "source": [
        "x_train,ix = vectorize_dic({'users':train['user'].values,#dic\n",
        "                            'items':train['item'].values},#ix\n",
        "                            n=len(train.index),\n",
        "                            g=2)\n",
        "x_train = x_train.todense()#从稀疏矩阵转化成普通矩阵\n",
        "x_train.shape"
      ],
      "metadata": {
        "id": "JLWsdWQDx28n"
      },
      "execution_count": null,
      "outputs": []
    },
    {
      "cell_type": "code",
      "source": [
        "x_train[0]"
      ],
      "metadata": {
        "id": "ngSTS07f7RxV"
      },
      "execution_count": null,
      "outputs": []
    },
    {
      "cell_type": "code",
      "source": [
        "n,p = x_train.shape\n",
        "k = 10#k为什么等于10\n",
        "class FM_model(nn.Module):#用pytorch的轮子\n",
        "    def __init__(self,p,k):\n",
        "        super(FM_model,self).__init__()\n",
        "        self.p = p\n",
        "        self.k = k\n",
        "        self.linear = nn.Linear(self.p,1,bias=True)#p个变量，y只有一个\n",
        "        self.v = nn.Parameter(torch.randn(self.k,self.p))\n",
        "    def fm_layer(self,x):\n",
        "        linear_part = self.linear(x)\n",
        "        inter_part1 = torch.mm(x,self.v.t())\n",
        "        inter_part2 = torch.mm(torch.pow(x,2),torch.pow(self.v,2).t())\n",
        "        output = linear_part + 0.5*torch.sum(torch.pow(inter_part1,2) - inter_part2)\n",
        "        return output\n",
        "    def forward(self,x):\n",
        "        output = self.fm_layer(x)\n",
        "        return output"
      ],
      "metadata": {
        "id": "fltac7m2iwo0"
      },
      "execution_count": null,
      "outputs": []
    },
    {
      "cell_type": "code",
      "source": [
        "model = FM_model(p,k)#p个变量，k个\n",
        "optimer = torch.optim.SGD(model.parameters(),lr=0.0001,weight_decay=0.001)\n",
        "loss_fn =nn.MSELoss()\n",
        "print(model)"
      ],
      "metadata": {
        "id": "nFo8Nx1Jn8S5"
      },
      "execution_count": null,
      "outputs": []
    },
    {
      "cell_type": "code",
      "source": [
        "test = pd.read_csv('./datasets/ua.test',delimiter='\\t',names = cols)\n",
        "x_test,ix = vectorize_dic({'users':test['user'].values,\n",
        "                           'items':test['item'].values},ix,x_train.shape[1],n=len(test.index),g=2)\n",
        "y_test = test['rating'].values\n",
        "x_test = x_test.todense()"
      ],
      "metadata": {
        "id": "alwkAtunpQyp"
      },
      "execution_count": null,
      "outputs": []
    },
    {
      "cell_type": "code",
      "source": [
        "loss_fn =nn.MSELoss()\n",
        "epochs=5\n",
        "from tqdm import tqdm\n",
        "for epoch in range(epochs):\n",
        "    loss_epoch = 0.0\n",
        "    loss_all = 0.0\n",
        "    perm = np.random.permutation(x_train.shape[0])\n",
        "    model.train()\n",
        "    for x,y in tqdm(batcher(x_train[perm], y_train[perm], batch_size)):\n",
        "        model.zero_grad()\n",
        "        x = torch.as_tensor(np.array(x.tolist()), dtype=torch.float,device=torch.device('cpu'))\n",
        "        y = torch.as_tensor(np.array(y.tolist()), dtype=torch.float,device=torch.device('cpu'))\n",
        "        x = x.view(-1, p)\n",
        "        y = y.view(-1, 1)\n",
        "        preds = model(x)\n",
        "        loss = loss_fn(preds,y)\n",
        "        loss_all += loss.item()\n",
        "        loss.backward()\n",
        "        optimer.step()\n",
        "    loss_epoch = loss_all/len(x)\n",
        "    loss_dict.append(loss_epoch)\n",
        "    epochs_dict.append(epoch)\n",
        "    print(f\"Epoch [{epoch}/{30}], \"\n",
        "              f\"Loss: {loss_epoch:.8f} \")"
      ],
      "metadata": {
        "id": "VIN1Q24tpgSD"
      },
      "execution_count": null,
      "outputs": []
    },
    {
      "cell_type": "code",
      "source": [
        "#保存模型\n",
        "torch.save({'epoch': epochs , 'state_dict': model.state_dict(), 'best_loss': min(loss_dict),\n",
        "                            'optimizer': optimer.state_dict()},\n",
        "                           './parameter.pkl')"
      ],
      "metadata": {
        "id": "T6TV0VYRptge"
      },
      "execution_count": null,
      "outputs": []
    },
    {
      "cell_type": "code",
      "source": [
        "plt.figure()  # 初始化画布\n",
        "x1 = range(0, epochs) # 取横坐标的值\n",
        "y1 = loss_dict\n",
        "plt.xlabel('Epoch #')  # 设置坐标轴名称\n",
        "plt.ylabel('Loss')\n",
        "plt.plot(x1, y1)\n",
        "plt.show() # 显示图片"
      ],
      "metadata": {
        "id": "2nP95qkmqa3u"
      },
      "execution_count": null,
      "outputs": []
    },
    {
      "cell_type": "code",
      "source": [],
      "metadata": {
        "id": "WQh0k60Rqyms"
      },
      "execution_count": null,
      "outputs": []
    }
  ]
}