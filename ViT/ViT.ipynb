{
  "nbformat": 4,
  "nbformat_minor": 0,
  "metadata": {
    "colab": {
      "private_outputs": true,
      "provenance": []
    },
    "kernelspec": {
      "name": "python3",
      "display_name": "Python 3"
    },
    "language_info": {
      "name": "python"
    }
  },
  "cells": [
    {
      "cell_type": "code",
      "metadata": {
        "id": "p4k9LWIavk2b"
      },
      "source": [
        "!pip install einops\n",
        "#预装einops包，用于attention,对tensor进行操作"
      ],
      "execution_count": null,
      "outputs": []
    },
    {
      "cell_type": "code",
      "metadata": {
        "id": "ycdNO3o7vl2M"
      },
      "source": [
        "import torch\n",
        "from torch import nn\n",
        "from einops import rearrange, repeat\n",
        "from einops.layers.torch import Rearrange   #rearrange函数可以调整图片的维度信息"
      ],
      "execution_count": null,
      "outputs": []
    },
    {
      "cell_type": "code",
      "metadata": {
        "id": "tt1jkLclvl6U"
      },
      "source": [
        "# helpers 用于处理图片大小信息，统一图片大小的长宽\n",
        "def pair(t):\n",
        "    return t if isinstance(t, tuple) else (t, t) #判断图片信息是否是tuple类型，如果是，return自己，否则返回(t,t)\n",
        "#元组的信息用()表示，且无法改变\n",
        "#这一步在做什么？\n",
        "#用来处理当给出的图像尺寸或块尺寸是int类型（如224）时，直接返回为同值元组（如(224, 224)）\n",
        "\n",
        "# classes\n",
        "#在做attention之前的Norm。对于embeeding的norm和对于MLP的norm\n",
        "class PreNorm(nn.Module):\n",
        "    def __init__(self, dim, fn):#fn应该是全联接层的简称\n",
        "        super().__init__()\n",
        "        self.norm = nn.LayerNorm(dim)\n",
        "        self.fn = fn\n",
        "    def forward(self, x, **kwargs):#kwargs是什么 **说明kwargs是一个字典. 扩展参数\n",
        "        return self.fn(self.norm(x), **kwargs)\n",
        "\n",
        "class FeedForward(nn.Module):\n",
        "    def __init__(self, dim, hidden_dim, dropout = 0.):\n",
        "        super().__init__()\n",
        "        self.net = nn.Sequential(\n",
        "            nn.Linear(dim, hidden_dim),\n",
        "            nn.GELU(),\n",
        "            nn.Dropout(dropout),\n",
        "            nn.Linear(hidden_dim, dim),\n",
        "            nn.Dropout(dropout))\n",
        "    def forward(self, x):\n",
        "        return self.net(x)\n",
        "\n",
        "class Attention(nn.Module):\n",
        "    def __init__(self, dim, heads = 8, dim_head = 64, dropout = 0.):\n",
        "        super().__init__()\n",
        "        inner_dim = dim_head * heads#总共的dim\n",
        "        project_out = not (heads == 1 and dim_head == dim)#总维度不是head的维度或者不是单头注意力\n",
        "        self.heads = heads\n",
        "        self.scale = dim_head ** -0.5#开根号取倒数\n",
        "        self.attend = nn.Softmax(dim = -1)\n",
        "        self.to_qkv = nn.Linear(dim, inner_dim * 3, bias = False)\n",
        "        self.to_out = nn.Sequential(\n",
        "            nn.Linear(inner_dim, dim),\n",
        "            nn.Dropout(dropout)\n",
        "        ) if project_out else nn.Identity()\n",
        "\n",
        "    def forward(self, x):\n",
        "        #b, n, _, h = *x.shape, self.heads\n",
        "        qkv = self.to_qkv(x).chunk(3, dim = -1)## 对tensor张量分块 x :1 197 1024   qkv 最后是一个元祖，tuple，长度是3，每个元素形状：1 197 1024\n",
        "        q, k, v = map(lambda t: rearrange(t, 'b n (h d) -> b h n d', h = self.heads), qkv)\n",
        "        dots = torch.matmul(q, k.transpose(-1, -2)) * self.scale\n",
        "        attn = self.attend(dots)\n",
        "        out = torch.matmul(attn, v)\n",
        "        out = rearrange(out, 'b h n d -> b n (h d)')\n",
        "        return self.to_out(out)\n",
        "\n",
        "class Transformer(nn.Module):\n",
        "    def __init__(self, dim, depth, heads, dim_head, mlp_dim, dropout = 0.):\n",
        "        super().__init__()\n",
        "        self.layers = nn.ModuleList([])#先定义一个空的list\n",
        "        for _ in range(depth):#对于每一个encoder，都添加attention模块和全连接层，要用layernorm进行处理\n",
        "            self.layers.append(nn.ModuleList([\n",
        "                PreNorm(dim, Attention(dim, heads = heads, dim_head = dim_head, dropout = dropout)),\n",
        "                PreNorm(dim, FeedForward(dim, mlp_dim, dropout = dropout))\n",
        "            ]))\n",
        "    def forward(self, x):\n",
        "        #这一步做了resnet的残差层\n",
        "        for attn, ff in self.layers:\n",
        "            x = attn(x) + x\n",
        "            x = ff(x) + x\n",
        "        return x #最后返回的量是transformer的结果"
      ],
      "execution_count": null,
      "outputs": []
    },
    {
      "cell_type": "code",
      "metadata": {
        "id": "K7_QeSYqvl8W"
      },
      "source": [
        "#模型主体\n",
        "class ViT(nn.Module):\n",
        "    def __init__(self, *, image_size, patch_size, num_classes, dim, depth, heads, mlp_dim, pool = 'cls', channels = 3, dim_head = 64, dropout = 0., emb_dropout = 0.):\n",
        "        super().__init__()\n",
        "        image_height, image_width = pair(image_size) ## 224*224\n",
        "        patch_height, patch_width = pair(patch_size)## 16 * 16\n",
        "        #自查和日志\n",
        "        assert image_height % patch_height == 0 and image_width % patch_width == 0, 'Image dimensions must be divisible by the patch size.'\n",
        "\n",
        "        num_patches = (image_height // patch_height) * (image_width // patch_width)\n",
        "        patch_dim = channels * patch_height * patch_width\n",
        "        assert pool in {'cls', 'mean'}, 'pool type must be either cls (cls token) or mean (mean pooling)'\n",
        "\n",
        "        self.to_patch_embedding = nn.Sequential(\n",
        "            Rearrange('b c (h p1) (w p2) -> b (h w) (p1 p2 c)', p1 = patch_height, p2 = patch_width),\n",
        "            nn.Linear(patch_dim, dim),\n",
        "        )\n",
        "        self.pos_embedding = nn.Parameter(torch.randn(1, num_patches + 1, dim))\n",
        "        self.cls_token = nn.Parameter(torch.randn(1, 1, dim))\n",
        "        self.dropout = nn.Dropout(emb_dropout)\n",
        "        self.transformer = Transformer(dim, depth, heads, dim_head, mlp_dim, dropout)\n",
        "        self.pool = pool\n",
        "        self.to_latent = nn.Identity() #就是这个网络层的设计是用于占位的，即不干活，只是有这么一个层，放到残差网络里就是在跳过连接的地方用这个层\n",
        "        self.mlp_head = nn.Sequential(\n",
        "            nn.LayerNorm(dim),\n",
        "            nn.Linear(dim, num_classes))\n",
        "\n",
        "    def forward(self, img):\n",
        "        x = self.to_patch_embedding(img) ## img 1 3 224 224  输出形状x : 1 196 1024 \n",
        "        b, n, _ = x.shape ## \n",
        "        cls_tokens = repeat(self.cls_token, '() n d -> b n d', b = b)#class的信息加入到embedding里，动机暂时不清楚?\n",
        "        x = torch.cat((cls_tokens, x), dim=1)\n",
        "        x += self.pos_embedding[:, :(n + 1)]#把做完embeeding的图片信息和位置信息进行相加\n",
        "        x = self.dropout(x)#这里为什么要做dropout\n",
        "        x = self.transformer(x)\n",
        "        x = x.mean(dim = 1) if self.pool == 'mean' else x[:, 0]\n",
        "        x = self.to_latent(x)\n",
        "        return self.mlp_head(x)"
      ],
      "execution_count": null,
      "outputs": []
    },
    {
      "cell_type": "code",
      "metadata": {
        "id": "RLz7TQXsvl-b"
      },
      "source": [
        "#运行模型，输入超参\n",
        "#默认channel的数量是3\n",
        "v = ViT(\n",
        "    image_size = 224,\n",
        "    patch_size = 16,\n",
        "    num_classes = 1000, #1000个种类\n",
        "    dim = 1024, #what is this\n",
        "    depth = 6,\n",
        "    heads = 16,  #多头？\n",
        "    mlp_dim = 2048, #fc的维度\n",
        "    dropout = 0.1,\n",
        "    emb_dropout = 0.1 #ebd居然也有dropout\n",
        ")\n",
        "#随机生成一个图片\n",
        "img = torch.randn(1, 3, 224, 224)\n",
        "#预测测试，并没有卵用lol\n",
        "preds = v(img) # (1, 1000)"
      ],
      "execution_count": null,
      "outputs": []
    }
  ]
}